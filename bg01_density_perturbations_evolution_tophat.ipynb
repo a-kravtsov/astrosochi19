{
 "cells": [
  {
   "cell_type": "code",
   "execution_count": 6,
   "metadata": {
    "slideshow": {
     "slide_type": "skip"
    }
   },
   "outputs": [],
   "source": [
    "# setup notebook for inline figures\n",
    "%matplotlib inline\n",
    "import numpy as np\n",
    "\n",
    "# import pyplot and set some parameters to make plots prettier\n",
    "import matplotlib.pyplot as plt\n",
    "from codes.plot_utils import plot_pretty\n",
    "plot_pretty()"
   ]
  },
  {
   "cell_type": "markdown",
   "metadata": {
    "slideshow": {
     "slide_type": "slide"
    }
   },
   "source": [
    "## Evolution of density perturbations in expanding universe\n",
    "\n",
    "Accurate modelling can be done via direct numerical simulations. However, simple analytic models are also very useful to gain insight into physics of structure formation and to interpret results of simulations. Three such models are most frequently discussed and used in the literature: \n",
    "\n",
    "* linear model of $\\delta$ evolution (e.g., Heath 1977) \n",
    "\n",
    "* Zel'dovich approximation (Zel'dovich 1970, 1972)\n",
    "\n",
    "* Spherical collapse model (Gunn & Gott 1972)\n",
    "\n",
    "* Ellipsoidal collapse model \n"
   ]
  },
  {
   "cell_type": "markdown",
   "metadata": {
    "slideshow": {
     "slide_type": "slide"
    }
   },
   "source": [
    "### Evolution of density perturbations in expanding universe: spherical collapse model\n",
    "\n",
    " Although this is an example of a \"spherical cow\" model, \n",
    "this particular model turns out to be remarkably useful. It does have limitations (more on this later). \n",
    "  \n",
    "<br>\n",
    "<center>\n",
    "<img width=500 src=\"img/spherical_cow.png\"></img>\n",
    "</center>"
   ]
  },
  {
   "cell_type": "markdown",
   "metadata": {
    "slideshow": {
     "slide_type": "slide"
    }
   },
   "source": [
    "### The spherical collapse model: assumptions\n",
    "\n",
    "Consider a spherically-symmetric density fluctuation of initial physical radius $R_{\\rm\n",
    "  i}$, with a spherically-symmetric distribution of matter around it. \n",
    "  \n",
    "For any given $r\\leq R$, there should be no force from the matter at radii larger than a given radius $r$ because spherical gravitating shells do not exert a gravitational force inside of them according to the <a href=\"https://goo.gl/DTmepq\">the first Newton's theorem.</a>\n",
    "\n",
    "Thus, we can consider evolution of any $r\\leq R$, as a separate problem, which will all have similar solutions."
   ]
  },
  {
   "cell_type": "markdown",
   "metadata": {
    "slideshow": {
     "slide_type": "slide"
    }
   },
   "source": [
    "### The spherical collapse model: assumptions\n",
    "\n",
    "Further, if we can neglect pressure of matter and associated force as well as any force associated with vacuum energy, a particle at radius $r$ is accelerated only by the mass inside of $r$, i.e.:\n",
    "\n",
    "$$\\ddot{r}=-\\frac{GM(<r)}{r^2}.$$  "
   ]
  },
  {
   "cell_type": "markdown",
   "metadata": {
    "slideshow": {
     "slide_type": "fragment"
    }
   },
   "source": [
    "For models with dark energy that has corresponding mean mass density $\\rho_\\Lambda$, the corresponding equation is \n",
    "\n",
    "$$\\ddot{r}=-\\frac{GM(<r)}{r^2} + \\frac{8\\pi G}{3}\\,\\rho_\\Lambda r.$$  \n",
    "\n",
    "In this case, the equation needs to be solved numerically. "
   ]
  },
  {
   "cell_type": "markdown",
   "metadata": {
    "slideshow": {
     "slide_type": "slide"
    }
   },
   "source": [
    "### The spherical collapse model: monotonic density profile assumption\n",
    "\n",
    "We will also assume that density profile of the perturbation is monotonically increasing (or is constant) with decreasing $r$:\n",
    "\n",
    "$$\\rho(<r_1) \\geq \\rho(<r_2),\\ \\ \\ \\ \\ \\mathrm{for\\ any}\\ r_1<r_2\\leq R_i$$\n",
    "\n",
    "In this case, the inner shells of matter (smaller $r$) will collapse on the same or faster time scale than the outer shells. This is because, shells that have larger density will always lag behind shells of lower density whil shells expand, and will collapse faster than outer shells when shells contract (when they will collapse on the free-fall time scale that scales as $t_{\\rm ff}\\propto \\rho^{-1/2}$). \n",
    "\n",
    "Thus, the mass within $r$ for a density perturbation with such density profile will be conserved during collapse. \n",
    "\n",
    "The fluctuation in which $\\rho(<r)=\\rm const$ for all $r\\leq R_i$ is called the **top-hat fluctuation**."
   ]
  },
  {
   "cell_type": "markdown",
   "metadata": {
    "slideshow": {
     "slide_type": "slide"
    }
   },
   "source": [
    "### Spherical collapse: boundedness assumption\n",
    "\n",
    "The first integral of our equation of motion, is total energy per unit mass (the sum of potential and kinetic energy per unit mass): \n",
    "\n",
    "$$E=\\frac{\\dot{r}^2}{2}-\\frac{GM(<r)}{r}.$$\n",
    "\n",
    "We will consider evolution of gravitationally bound, i.e. $E<0$.\n",
    "\n"
   ]
  },
  {
   "cell_type": "markdown",
   "metadata": {
    "slideshow": {
     "slide_type": "slide"
    }
   },
   "source": [
    "### Spherical collapse: boundedness assumption and condition on $\\delta_i$\n",
    "\n",
    "For collapse the initial mass and radius of the perturbation should be such that it  is bound: \n",
    "\n",
    "$$E=\\frac{\\dot{R}^2_{i}}{2}-\\frac{GM}{R_i}<0$$\n",
    "\n",
    "or\n",
    "\n",
    "$$\\dot{R}^2_{i}<\\frac{2GM}{R_i}=\\frac{1}{R_i}\\,\\frac{8\\pi G}{3}\\,\\bar{\\rho}_{\\rm m0}\\, R^3_{\\rm L}=\\frac{8\\pi G}{3}\\,\\bar{\\rho}_{\\rm m0} a_i^{-3} R_i^2\\,(1+\\delta_i)=H^2(t_i)R_i^2\\Omega_{\\rm m}(t_i)(1+\\delta_i),$$ \n",
    "\n",
    "where, by definition, $\\Omega_{\\rm m}(t_i)=\\bar{\\rho}_{\\rm m}(t_i)/\\rho_{\\rm crit}(t_i)$ and $H^2(t_i)=(\\dot{a}/a)^2=8\\pi G\\rho_{\\rm crit}(t_i)/3$ and previously derived equation $R_i=R_L\\, a(t_i)\\,(1+\\delta_i)^{-1/3}$ was used. "
   ]
  },
  {
   "cell_type": "markdown",
   "metadata": {
    "slideshow": {
     "slide_type": "slide"
    }
   },
   "source": [
    "The above expression can be re-written as \n",
    "\n",
    "$$\\left(\\frac{\\dot{R}_{i}}{R_i}\\right)^2\\,\\frac{1}{H^2(t_i)}\\,\\frac{1}{\\Omega_{\\rm m}(t_i)}<(1+\\delta_i),$$ \n",
    "\n",
    "For a sufficiently early epoch perturbation simply expands with velocity close to the average expansion velocity: $\\dot{R}_{i}/R_i\\approx \\dot{a}(t_i)/a(t_i)= H(t_i)$. Thus, this expression implies: \n",
    "\n",
    "$$(1+\\delta_i)>\\frac{1}{\\Omega_{\\rm m}(t_i)}.$$\n",
    "\n",
    "Thus, for $\\Omega_{\\rm m}=\\bar{\\rho}/\\rho_{\\rm crit}=1$, any overdensity $\\delta_i>0$ is bound and will eventually collapse. For $\\Omega_{\\rm m}<1$, however, only perturbations with $\\delta_{i}>1/\\Omega_{\\rm m}-1$ will collapse. \n"
   ]
  },
  {
   "cell_type": "markdown",
   "metadata": {
    "slideshow": {
     "slide_type": "slide"
    }
   },
   "source": [
    "#### Work out initial conditions for fluctuations at $z_{\\rm CMB}$ for $\\delta_i\\approx 10^{-5}$.\n",
    "\n",
    "Going back to fluctuations of baryon density with $\\delta_i\\approx 10^{-5}$ at $z_{\\rm CMB}=1100$.\n",
    "\n",
    "As shown in the auxiliary notebook on Friedmann solutions: \n",
    "\n",
    "$$\\Omega_{\\rm m}(z)=\\frac{\\Omega_{\\rm m0}\\,(1+z)^{3}}{\\Omega_{\\rm m0}\\,(1+z)^{3} + \\Omega_k (1+z)^{2} +\\Omega_{\\Lambda 0}}.$$\n",
    "\n",
    "Assuming $\\Omega_{\\rm m0}=0.3$, $\\Omega_{\\Lambda 0}=0.7$, and hence $\\Omega_k=0$ at $z=1100$ we get: "
   ]
  },
  {
   "cell_type": "code",
   "execution_count": 4,
   "metadata": {
    "slideshow": {
     "slide_type": "fragment"
    }
   },
   "outputs": [
    {
     "name": "stdout",
     "output_type": "stream",
     "text": [
      "Omega_m(z) = 0.9999999983\n",
      "fluctuations of delta_i > 1.75e-09 will collapse\n"
     ]
    }
   ],
   "source": [
    "Om0 = 0.3; OmL0 = 0.7; Omk = 1. - Om0 - OmL0\n",
    "z = 1100\n",
    "\n",
    "Omz = Om0*(1+z)**3/(Om0*(1+z)**3+Omk*(1+z)**2+OmL0)\n",
    "print(\"Omega_m(z) = %.10g\"%(Omz))\n",
    "\n",
    "print(\"fluctuations of delta_i > %.3g will collapse\"%(1./Omz-1.))"
   ]
  },
  {
   "cell_type": "markdown",
   "metadata": {
    "slideshow": {
     "slide_type": "slide"
    }
   },
   "source": [
    "### Solution of spherical collapse equation of motion\n",
    "\n",
    "Because, as just discussed,  $M(<r)$ is independent of time during collapse, the equation $\\ddot{r}=-GM(<r)/r^2$ in this problem is the same as the equation of motion of a body moving in a central gravitational field (planet around a star, satellite around the Earth, etc.).\n",
    "\n",
    "Solution of this equation is well known, as you can imagine. I include the complete derivation of the solution for the general case of a body with angular momentum moving on elliptical orbit around a central gravitating mass in the <a href=\"bg01_eqs_motion_central_field.ipynb\">bg01_eqs_motion_central_field</a> notebook. \n"
   ]
  },
  {
   "cell_type": "markdown",
   "metadata": {
    "slideshow": {
     "slide_type": "slide"
    }
   },
   "source": [
    "Assuming that matter has no angular momentum ($L=0$) and moves only radially (eccentricity $e=1$), the solution of $\\ddot{r}=-GM(<r)/r^2$ is \n",
    "\n",
    "$$r=\\frac{r_{\\rm ta}}{2}\\,(1-\\cos\\eta); \\ \\ \\ t=\\frac{t_{\\rm ta}}{\\pi}\\,(\\eta-\\sin \\eta),$$ \n",
    "\n",
    "where $0\\leq\\eta\\leq 2\\pi$ is parametric variable (called *eccentric anomaly* in orbital dynamics), and $r_{\\rm ta}$ is the *turnaround radius* -- the maximum radius during the evolution that is reached at the turnaround time, $t_{\\rm ta}$. \n",
    "\n",
    "The evolution $r(t)$ thus consists of an initially decelerating increase of the fluctuation radius, until it reaches the maximum value, $r_{\\rm ta}$, at $t_{\\rm ta}$, and subsequent decrease of $r(t)$ at $t>t_{\\rm ta}$ until the fluctuation collapses, virializes, and settles at the final\n",
    "radius $R_{\\rm f}$ at $t=t_{\\rm coll}$. \n"
   ]
  },
  {
   "cell_type": "markdown",
   "metadata": {
    "slideshow": {
     "slide_type": "slide"
    }
   },
   "source": [
    "### Turnaround radius and time\n",
    "\n",
    "At $r_{\\rm ta}$ velocity of the shell is zero, so its total energy is all in the form of potential energy: \n",
    "\n",
    "$$E=-\\frac{GM}{r_{\\rm ta}},\\ \\ \\ {\\rm or}\\ \\ \\  r_{\\rm ta}=\\frac{GM}{\\vert E\\vert}.$$\n",
    "\n",
    "At the same time, the full evolution until collapse corresponds to $t=2t_{\\rm ta}$ and so perturbation will collapse ($r=0$) from $t_{\\rm ta}$ in the time equal to $t_{\\rm ta}$. We know that homegeneous sphere collapses in *free-fall time*, $t_{\\rm ff}=\\sqrt{3\\pi/[32G\\rho_{\\rm ta}]}$ where $\\rho_{\\rm ta}=3M/(4\\pi r_{\\rm ta}^3)$, and so: \n",
    "\n",
    "$$t_{\\rm ta}=\\left(\\frac{3\\pi}{32G\\rho_{\\rm ta}}\\right)^{1/2}=\\pi\\,\\left(\\frac{r_{\\rm ta}^3}{32GM}\\right)^{1/2}=\\pi\\,\\frac{GM}{(2\\vert E\\vert)^{3/2}}.$$\n",
    "\n",
    "Thus, $r_{\\rm ta}$ and $t_{\\rm ta}$ are determined by the mass $M$ and total binding energy of the perturbation $\\vert E\\vert$."
   ]
  },
  {
   "cell_type": "markdown",
   "metadata": {
    "slideshow": {
     "slide_type": "slide"
    }
   },
   "source": [
    "The mass, in turn, can be written as a function of dimensionless *overdensity*\n",
    "\n",
    "$$\\delta=\\frac{\\rho(<r)-\\bar{\\rho}}{\\bar{\\rho}}.$$\n",
    "\n",
    "$$M=\\frac{4\\pi}{3}\\,(1+\\delta)\\,\\bar{\\rho}r^3=\\frac{4\\pi}{3}\\,(1+\\delta_i)\\,\\bar{\\rho}r_i^3={\\rm const}.$$\n",
    "\n",
    "Thus, turnaround radius and time will depend on the initial overdensity and radius, $\\delta_i$ and $r_i$ and total binding energy $\\vert E\\vert$ at $t=t_i$. These quantities constitute *initial conditions* for a given density fluctuation. \n",
    "\n"
   ]
  },
  {
   "cell_type": "markdown",
   "metadata": {
    "slideshow": {
     "slide_type": "slide"
    }
   },
   "source": [
    "### An example:  \n",
    "\n",
    "Evolution of the physical radius (left) and density contrast $\\delta(<r)$ (right) as a function of time for a perturbation with comoving initial radius $R_i=1.5h^{-1}$ Mpc, mass $M\\approx 1.75\\times 10^{12}\\ M_\\odot$ in the $\\Omega_{\\rm m0}=0.3$, $\\Omega_\\Lambda=0$ cosmology ($H_0=70\\ \\rm km\\,s^{-1}\\,Mpc$).  \n",
    "\n",
    "<br>\n",
    "<center>\n",
    "<img width=800 src=\"img/th_collapse_r_t.png\"></img>\n",
    "</center>"
   ]
  },
  {
   "cell_type": "markdown",
   "metadata": {
    "slideshow": {
     "slide_type": "slide"
    }
   },
   "source": [
    "### Linear overdensity at collapse: approximate estimate\n",
    "\n",
    "If the initial density contrast $\\delta_{\\rm i}$ would grow\n",
    "only at the linear rate, $D_+(z)$, then the density contrast at the time of\n",
    "collapse would be more than a hundred times smaller.\n",
    "\n",
    "Its value can be derived starting from the density contrast linearly extrapolated to\n",
    "the turn around epoch, $\\delta_{\\rm ta}$. One could expect that at this point the perturbation is already in the *non-linear* regime and so linearly extrapolated overdensity should be of order unity $\\delta_{\\rm ta}\\sim 1$. Because $t_{\\rm coll}=2t_{\\rm ta}$, further linear\n",
    "evolution for $\\Omega_{\\rm m}(z)=1$ until the collapse time gives\n",
    "\n",
    "$$\\delta_c=\\delta_{\\rm ta} D_+(t_c)/D_+(t_{\\rm ta})=a(t_c)/a(t_{\\rm ta})=(t_c/t_{\\rm ta})^{2/3}=2^{2/3}\\approx 1.6$$"
   ]
  },
  {
   "cell_type": "markdown",
   "metadata": {
    "slideshow": {
     "slide_type": "slide"
    }
   },
   "source": [
    "### Linear overdensity at collapse in the exact solution of spherical collapse\n",
    "\n",
    "In fact, the exact calculation of the evolution equations in the case of \n",
    "$\\Omega_{\\rm m}(z)=1$ at the redshift of turnaround gives $\\delta_{ta}=1.062$\n",
    "(<a href=\"http://adsabs.harvard.edu/abs/1972ApJ...176....1G\">Gunn & Gott 1972</a>), which gives\n",
    "$\\delta_c=\\delta_{\\rm ta} 2^{2/3}\\approx 1.686$.\n",
    "\n",
    "In the right panel of the figure showing evolution above, density contrast $\\delta(<r)$ is compared to the linear evolution $\\delta_i\\,D_+(t)/D_+(t_i)$ (dashed line) correct for this cosmology and to $\\delta_i(t/t_i)^{2/3}$ expected linear growth of the $\\Omega_{\\rm m}=1$ cosmology (dark dotted line). The horizontal gray dotted line shows $\\delta_c=1.686$ -- one can see that  $\\delta_i\\,D_+(t)/D_+(t_i)=1.686$ at the time of collapse ($r_{\\rm TH}=0$)."
   ]
  },
  {
   "cell_type": "markdown",
   "metadata": {
    "slideshow": {
     "slide_type": "slide"
    }
   },
   "source": [
    "#### Linearly extrapolated overdensity in $\\Omega_{\\rm m}\\ne 1$ cosmologies\n",
    "\n",
    "In the\n",
    "case of $\\Omega_{\\rm m}\\ne 1$ we expect that $\\delta_{\\rm ta}$ should have\n",
    "different values. For instance, for $\\Omega_{\\rm m}< 1$ density contrast at\n",
    "the turn-around should be higher to account for the higher rate of the\n",
    "Hubble expansion. However, linear growth from $t_{\\rm ta}$ to $t_{\\rm\n",
    "  coll}$ is smaller due to the slower redshift dependence of\n",
    "$D_+(z)$. As a matter of fact, these two factors nearly cancel, so that \n",
    "$\\delta_c$ has a weak dependence on\n",
    "$\\Omega_{\\rm m}$ and $\\Omega_\\Lambda$ (e.g., <a href=\"http://adsabs.harvard.edu/abs/2005A%26A...443..819P\">Percival 2005</a>). \n",
    "\n",
    "For the concordance\n",
    "$\\Lambda$CDM cosmology at $z=0$, for example, $\\delta_c\\approx 1.675.$ The exact dependence of $\\delta_c$ on cosmological parameters is thus often neglected, but one should be aware that in some cases this may matter (see, e.g., <a href=\"http://adsabs.harvard.edu/abs/2011MNRAS.410.1911C\">Alimi et al. 2011</a>). "
   ]
  },
  {
   "cell_type": "markdown",
   "metadata": {
    "slideshow": {
     "slide_type": "slide"
    }
   },
   "source": [
    "### $\\delta_c$ only weakly depends on cosmological parameters\n",
    "\n",
    "Its values as a function of $\\Omega_{\\rm m0}$ in the $\\Lambda$CDM and open CDM ($\\Omega_\\Lambda=0$).\n",
    "\n",
    "<br>\n",
    "<center>\n",
    "<img src=\"img/deltac.png\" width=\"600\"></img>\n",
    "</center>"
   ]
  },
  {
   "cell_type": "markdown",
   "metadata": {
    "slideshow": {
     "slide_type": "slide"
    }
   },
   "source": [
    "### Linear overdensity at collapse time as a function of $z$ (and thus of $\\Omega_{\\rm m}(z)$)\n",
    "\n",
    "In $\\Lambda$CDM cosmology with $\\Omega_{\\rm m0}=0.3$:\n",
    "\n",
    "<br>\n",
    "<center>\n",
    "<img width=500 src=\"img/deltac_z.png\"></img>\n",
    "</center>"
   ]
  },
  {
   "cell_type": "markdown",
   "metadata": {
    "slideshow": {
     "slide_type": "slide"
    }
   },
   "source": [
    "### Collapse condition of the spherical collapse model\n",
    "\n",
    "The overdensity predicted by the linear evolution model at collapse time predicted by the spherical collapse time is a powerful tool used in models of peak collapse, mass function of collapsed objects, etc.\n",
    "\n",
    "The equation below provides an implicit equation for collapse time (or equivalent collapse redshift or expansion factor):\n",
    "\n",
    "$$\\delta_i\\,\\frac{D_+(t_{\\rm coll})}{D_+(t_i)}=\\delta_{\\rm c}$$\n",
    "\n",
    "For $\\Omega_{\\rm m}=1$ one can solve for $t_{\\rm coll}$ analytically as $D_+(t)=(t/t_U)^{2/3}$, where $t_U=2/(3H_0)$. For other models this implicit equation can be solved numerically. "
   ]
  },
  {
   "cell_type": "markdown",
   "metadata": {
    "slideshow": {
     "slide_type": "skip"
    }
   },
   "source": [
    "See  the end of this notebook for the script that produced this plot using Colossus routine."
   ]
  },
  {
   "cell_type": "markdown",
   "metadata": {
    "slideshow": {
     "slide_type": "skip"
    }
   },
   "source": [
    "### Some code used to produce figures above"
   ]
  },
  {
   "cell_type": "code",
   "execution_count": 1,
   "metadata": {
    "slideshow": {
     "slide_type": "skip"
    }
   },
   "outputs": [],
   "source": [
    "from colossus.cosmology import cosmology\n",
    "\n",
    "# define a vector of cosmological parameters:    \n",
    "my_cosmo = {'flat': True, 'H0': 70.0, 'Om0': 0.3, 'Ob0': 0.045714, 'sigma8': 0.82, 'ns': 0.96}\n",
    "# set my_cosmo to be the current cosmology\n",
    "cosmo = cosmology.setCosmology('my_cosmo', my_cosmo)\n",
    "cosmo.interpolation = False"
   ]
  },
  {
   "cell_type": "code",
   "execution_count": 10,
   "metadata": {
    "slideshow": {
     "slide_type": "skip"
    }
   },
   "outputs": [
    {
     "data": {
      "image/png": "[encoded data removed]",
      "text/plain": [
       "<Figure size 600x600 with 1 Axes>"
      ]
     },
     "metadata": {
      "needs_background": "light"
     },
     "output_type": "display_data"
    }
   ],
   "source": [
    "from colossus.lss import peaks\n",
    "plot_pretty(dpi=200)\n",
    "\n",
    "z = np.arange(0.0, 5.0, 0.1)\n",
    "delta_c = peaks.collapseOverdensity(corrections = True, z = z)\n",
    "plt.figure(figsize=(3,3))\n",
    "plt.xlabel('$z$')\n",
    "plt.ylabel(r'linear collapse overdensity $\\delta_c$')\n",
    "plt.plot(z, delta_c, '-')\n",
    "plt.grid(ls='dotted', c='lightgray')\n",
    "#plt.savefig('img/deltac_z.png', bbox_inches='tight')\n",
    "plt.show()"
   ]
  }
 ],
 "metadata": {
  "celltoolbar": "Slideshow",
  "kernelspec": {
   "display_name": "Python 3",
   "language": "python",
   "name": "python3"
  },
  "language_info": {
   "codemirror_mode": {
    "name": "ipython",
    "version": 3
   },
   "file_extension": ".py",
   "mimetype": "text/x-python",
   "name": "python",
   "nbconvert_exporter": "python",
   "pygments_lexer": "ipython3",
   "version": "3.7.1"
  }
 },
 "nbformat": 4,
 "nbformat_minor": 1
}
